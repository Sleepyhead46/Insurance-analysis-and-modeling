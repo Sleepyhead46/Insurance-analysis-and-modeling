{
 "cells": [
  {
   "cell_type": "code",
   "execution_count": null,
   "id": "b22d0a42",
   "metadata": {},
   "outputs": [],
   "source": [
    "\n",
    "# Step 1: Import Libraries\n",
    "import pandas as pd\n",
    "import matplotlib.pyplot as plt\n",
    "import numpy as np\n",
    "import seaborn as sns\n",
    "from sklearn.pipeline import Pipeline\n",
    "from sklearn.preprocessing import StandardScaler, PolynomialFeatures\n",
    "from sklearn.linear_model import LinearRegression, Ridge\n",
    "from sklearn.metrics import mean_squared_error, r2_score\n",
    "from sklearn.model_selection import cross_val_score, train_test_split\n",
    "import requests\n"
   ]
  },
  {
   "cell_type": "code",
   "execution_count": null,
   "id": "2e6de609",
   "metadata": {},
   "outputs": [],
   "source": [
    "\n",
    "# Step 2: Download the Dataset\n",
    "def download(url, filename):\n",
    "    response = requests.get(url)\n",
    "    if response.status_code == 200:\n",
    "        with open(filename, 'wb') as f:\n",
    "            f.write(response.content)\n",
    "\n",
    "path = 'https://cf-courses-data.s3.us.cloud-object-storage.appdomain.cloud/IBMDeveloperSkillsNetwork-DA0101EN-Coursera/medical_insurance_dataset.csv'\n",
    "file_name = \"insurance.csv\"\n",
    "download(path, file_name)\n"
   ]
  },
  {
   "cell_type": "code",
   "execution_count": null,
   "id": "f0ff7859",
   "metadata": {},
   "outputs": [],
   "source": [
    "\n",
    "# Step 3: Load and Prepare the Data\n",
    "df = pd.read_csv(file_name, header=None)\n",
    "headers = [\"age\", \"gender\", \"bmi\", \"no_of_children\", \"smoker\", \"region\", \"charges\"]\n",
    "df.columns = headers\n",
    "df.replace('?', np.nan, inplace=True)\n",
    "df.info()\n"
   ]
  },
  {
   "cell_type": "code",
   "execution_count": null,
   "id": "87c848c4",
   "metadata": {},
   "outputs": [],
   "source": [
    "\n",
    "# Step 4: Handle Missing Values and Update Data Types\n",
    "is_smoker = df['smoker'].value_counts().idxmax()\n",
    "df[\"smoker\"].replace(np.nan, is_smoker, inplace=True)\n",
    "\n",
    "mean_age = df['age'].astype('float').mean(axis=0)\n",
    "df[\"age\"].replace(np.nan, mean_age, inplace=True)\n",
    "\n",
    "df[[\"age\", \"smoker\"]] = df[[\"age\", \"smoker\"]].astype(int)\n",
    "df.info()\n"
   ]
  },
  {
   "cell_type": "code",
   "execution_count": null,
   "id": "ffc18cab",
   "metadata": {},
   "outputs": [],
   "source": [
    "\n",
    "# Step 5: Round Charges and Display the Data\n",
    "df[[\"charges\"]] = np.round(df[[\"charges\"]], 2)\n",
    "df.head()\n"
   ]
  },
  {
   "cell_type": "code",
   "execution_count": null,
   "id": "49b819e6",
   "metadata": {},
   "outputs": [],
   "source": [
    "\n",
    "# Step 6: Data Visualization - Regression Plot of Charges vs BMI\n",
    "sns.regplot(x='bmi', y='charges', data=df, line_kws={\"color\":\"red\"})\n",
    "plt.title('Regression Plot of Charges vs BMI')\n",
    "plt.ylim(0,)\n",
    "plt.show()\n"
   ]
  },
  {
   "cell_type": "code",
   "execution_count": null,
   "id": "03c798d6",
   "metadata": {},
   "outputs": [],
   "source": [
    "\n",
    "# Step 6: Data Visualization - Box Plot of Charges by Smoker Status\n",
    "sns.boxplot(x='smoker', y='charges', data=df)\n",
    "plt.title('Box Plot of Charges by Smoker Status')\n",
    "plt.show()\n"
   ]
  },
  {
   "cell_type": "code",
   "execution_count": null,
   "id": "96877a97",
   "metadata": {},
   "outputs": [],
   "source": [
    "\n",
    "# Step 7: Correlation Matrix\n",
    "corr_matrix = df.corr()\n",
    "sns.heatmap(corr_matrix, annot=True, cmap=\"coolwarm\", fmt=\".2f\")\n",
    "plt.title('Correlation Matrix')\n",
    "plt.show()\n"
   ]
  },
  {
   "cell_type": "code",
   "execution_count": null,
   "id": "7f88b9c2",
   "metadata": {},
   "outputs": [],
   "source": [
    "\n",
    "# Step 8: Simple Linear Regression (Charges by Smoker)\n",
    "X = df[['smoker']]\n",
    "Y = df[['charges']]\n",
    "lm = LinearRegression()\n",
    "lm.fit(X, Y)\n",
    "print(\"R^2 score for charges prediction using smoker:\", lm.score(X, Y))\n"
   ]
  },
  {
   "cell_type": "code",
   "execution_count": null,
   "id": "b130fa20",
   "metadata": {},
   "outputs": [],
   "source": [
    "\n",
    "# Step 9: Multiple Linear Regression (Charges by All Attributes)\n",
    "Z = df[[\"age\", \"gender\", \"bmi\", \"no_of_children\", \"smoker\", \"region\"]]\n",
    "lm.fit(Z, Y)\n",
    "print(\"R^2 score for charges prediction using all attributes:\", lm.score(Z, Y))\n"
   ]
  },
  {
   "cell_type": "code",
   "execution_count": null,
   "id": "29bed0f1",
   "metadata": {},
   "outputs": [],
   "source": [
    "\n",
    "# Step 10: Polynomial Features and Pipeline\n",
    "Input = [('scale', StandardScaler()), ('polynomial', PolynomialFeatures(include_bias=False)), ('model', LinearRegression())]\n",
    "pipe = Pipeline(Input)\n",
    "Z = Z.astype(float)\n",
    "pipe.fit(Z, Y)\n",
    "ypipe = pipe.predict(Z)\n",
    "print(\"R^2 score for charges prediction using polynomial features:\", r2_score(Y, ypipe))\n"
   ]
  },
  {
   "cell_type": "code",
   "execution_count": null,
   "id": "de891033",
   "metadata": {},
   "outputs": [],
   "source": [
    "\n",
    "# Step 11: Train-Test Split\n",
    "x_train, x_test, y_train, y_test = train_test_split(Z, Y, test_size=0.2, random_state=1)\n"
   ]
  },
  {
   "cell_type": "code",
   "execution_count": null,
   "id": "57b2ae47",
   "metadata": {},
   "outputs": [],
   "source": [
    "\n",
    "# Step 12: Ridge Regression\n",
    "ridge_model = Ridge(alpha=0.1)\n",
    "ridge_model.fit(x_train, y_train)\n",
    "yhat = ridge_model.predict(x_test)\n",
    "print(\"R^2 score for Ridge regression on test data:\", r2_score(y_test, yhat))\n"
   ]
  },
  {
   "cell_type": "code",
   "execution_count": null,
   "id": "3d7e8c3b",
   "metadata": {},
   "outputs": [],
   "source": [
    "\n",
    "# Step 13: Polynomial Transformation and Ridge Regression\n",
    "pr = PolynomialFeatures(degree=2)\n",
    "x_train_pr = pr.fit_transform(x_train)\n",
    "x_test_pr = pr.transform(x_test)\n",
    "ridge_model.fit(x_train_pr, y_train)\n",
    "y_hat = ridge_model.predict(x_test_pr)\n",
    "print(\"R^2 score for Ridge regression with polynomial features on test data:\", r2_score(y_test, y_hat))\n"
   ]
  }
 ],
 "metadata": {},
 "nbformat": 4,
 "nbformat_minor": 5
}
